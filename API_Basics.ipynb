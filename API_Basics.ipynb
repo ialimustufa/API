{
  "nbformat": 4,
  "nbformat_minor": 0,
  "metadata": {
    "colab": {
      "name": "API Basics",
      "provenance": [],
      "collapsed_sections": []
    },
    "kernelspec": {
      "name": "python3",
      "display_name": "Python 3"
    }
  },
  "cells": [
    {
      "cell_type": "code",
      "metadata": {
        "id": "KRilgOjLt7mS",
        "colab": {
          "base_uri": "https://localhost:8080/"
        },
        "outputId": "c22168f8-9b53-4a1c-a07b-acf93aa6287c"
      },
      "source": [
        "!pip install flask-restful\r\n",
        "!pip install flask-ngrok"
      ],
      "execution_count": 1,
      "outputs": [
        {
          "output_type": "stream",
          "text": [
            "Collecting flask-restful\n",
            "  Downloading https://files.pythonhosted.org/packages/e9/83/d0d33c971de2d38e54b0037136c8b8d20b9c83d308bc6c220a25162755fd/Flask_RESTful-0.3.8-py2.py3-none-any.whl\n",
            "Requirement already satisfied: pytz in /usr/local/lib/python3.6/dist-packages (from flask-restful) (2018.9)\n",
            "Collecting aniso8601>=0.82\n",
            "\u001b[?25l  Downloading https://files.pythonhosted.org/packages/93/4e/760c0aaf32034e2da98e1ac6d83b6ffc6d1301132af54c3950ee07785bfa/aniso8601-8.1.0-py2.py3-none-any.whl (44kB)\n",
            "\u001b[K     |████████████████████████████████| 51kB 3.9MB/s \n",
            "\u001b[?25hRequirement already satisfied: Flask>=0.8 in /usr/local/lib/python3.6/dist-packages (from flask-restful) (1.1.2)\n",
            "Requirement already satisfied: six>=1.3.0 in /usr/local/lib/python3.6/dist-packages (from flask-restful) (1.15.0)\n",
            "Requirement already satisfied: itsdangerous>=0.24 in /usr/local/lib/python3.6/dist-packages (from Flask>=0.8->flask-restful) (1.1.0)\n",
            "Requirement already satisfied: Jinja2>=2.10.1 in /usr/local/lib/python3.6/dist-packages (from Flask>=0.8->flask-restful) (2.11.2)\n",
            "Requirement already satisfied: Werkzeug>=0.15 in /usr/local/lib/python3.6/dist-packages (from Flask>=0.8->flask-restful) (1.0.1)\n",
            "Requirement already satisfied: click>=5.1 in /usr/local/lib/python3.6/dist-packages (from Flask>=0.8->flask-restful) (7.1.2)\n",
            "Requirement already satisfied: MarkupSafe>=0.23 in /usr/local/lib/python3.6/dist-packages (from Jinja2>=2.10.1->Flask>=0.8->flask-restful) (1.1.1)\n",
            "Installing collected packages: aniso8601, flask-restful\n",
            "Successfully installed aniso8601-8.1.0 flask-restful-0.3.8\n",
            "Collecting flask-ngrok\n",
            "  Downloading https://files.pythonhosted.org/packages/af/6c/f54cb686ad1129e27d125d182f90f52b32f284e6c8df58c1bae54fa1adbc/flask_ngrok-0.0.25-py3-none-any.whl\n",
            "Requirement already satisfied: Flask>=0.8 in /usr/local/lib/python3.6/dist-packages (from flask-ngrok) (1.1.2)\n",
            "Requirement already satisfied: requests in /usr/local/lib/python3.6/dist-packages (from flask-ngrok) (2.23.0)\n",
            "Requirement already satisfied: Jinja2>=2.10.1 in /usr/local/lib/python3.6/dist-packages (from Flask>=0.8->flask-ngrok) (2.11.2)\n",
            "Requirement already satisfied: Werkzeug>=0.15 in /usr/local/lib/python3.6/dist-packages (from Flask>=0.8->flask-ngrok) (1.0.1)\n",
            "Requirement already satisfied: click>=5.1 in /usr/local/lib/python3.6/dist-packages (from Flask>=0.8->flask-ngrok) (7.1.2)\n",
            "Requirement already satisfied: itsdangerous>=0.24 in /usr/local/lib/python3.6/dist-packages (from Flask>=0.8->flask-ngrok) (1.1.0)\n",
            "Requirement already satisfied: certifi>=2017.4.17 in /usr/local/lib/python3.6/dist-packages (from requests->flask-ngrok) (2020.12.5)\n",
            "Requirement already satisfied: chardet<4,>=3.0.2 in /usr/local/lib/python3.6/dist-packages (from requests->flask-ngrok) (3.0.4)\n",
            "Requirement already satisfied: idna<3,>=2.5 in /usr/local/lib/python3.6/dist-packages (from requests->flask-ngrok) (2.10)\n",
            "Requirement already satisfied: urllib3!=1.25.0,!=1.25.1,<1.26,>=1.21.1 in /usr/local/lib/python3.6/dist-packages (from requests->flask-ngrok) (1.24.3)\n",
            "Requirement already satisfied: MarkupSafe>=0.23 in /usr/local/lib/python3.6/dist-packages (from Jinja2>=2.10.1->Flask>=0.8->flask-ngrok) (1.1.1)\n",
            "Installing collected packages: flask-ngrok\n",
            "Successfully installed flask-ngrok-0.0.25\n"
          ],
          "name": "stdout"
        }
      ]
    },
    {
      "cell_type": "code",
      "metadata": {
        "id": "I6fiuo8-wngz",
        "colab": {
          "base_uri": "https://localhost:8080/"
        },
        "outputId": "d223bd3f-6f3e-43eb-8ace-be4c311f5318"
      },
      "source": [
        "from flask import Flask, jsonify\n",
        "from flask_restful import Api, Resource, reqparse\n",
        "from flask_ngrok import run_with_ngrok\n",
        "from flask import make_response\n",
        "\n",
        "\n",
        "import random\n",
        "app = Flask(__name__)\n",
        "api = Api(app)\n",
        "\n",
        "dev_jokes = [\n",
        "    {\n",
        "        \"id\": 0,\n",
        "        \"author\": \"NA\",\n",
        "        \"joke\": \"Q: How did the Coder CEO build his company headquarters? A: By calling the Constructor();\", \n",
        "        \"source\": \"https://github.com/shrutikapoor08/devjoke/blob/master/README.md\"\n",
        "    },\n",
        "    {\n",
        "        \"id\": 1,\n",
        "        \"author\": \"NA\",\n",
        "        \"joke\": \"Q: What is Hardware? A: The part of the computer which you can kick.\",\n",
        "        \"source\": \"https://github.com/shrutikapoor08/devjoke/blob/master/README.md\"\n",
        "    },\n",
        "    {\n",
        "        \"id\": 2,\n",
        "        \"author\": \"NA\",\n",
        "        \"joke\": \"Q: Who is a programmer? A: A programmer is a machine who turns coffee into code.\",\n",
        "        \"source\": \"https://github.com/shrutikapoor08/devjoke/blob/master/README.md\"\n",
        "    },\n",
        "    {\n",
        "        \"id\": 3,\n",
        "        \"author\": \"NA\",\n",
        "        \"joke\": \"First rule of programming : If it works DON'T touch it.\",\n",
        "        \"source\": \"https://github.com/shrutikapoor08/devjoke/blob/master/README.md\"\n",
        "    }\n",
        "]\n",
        "\n",
        "class joke(Resource):\n",
        "    def get(self, id=0):\n",
        "        for joke in dev_jokes:\n",
        "            if(joke[\"id\"] == id):\n",
        "                return joke, 200\n",
        "        return \"Joke not found\", 404\n",
        "      \n",
        "    def post(self, id):\n",
        "      parser = reqparse.RequestParser()\n",
        "      parser.add_argument(\"author\")\n",
        "      parser.add_argument(\"joke\")\n",
        "      parser.add_argument(\"source\")\n",
        "      params = parser.parse_args()\n",
        "      for joke in dev_jokes:\n",
        "          if(id == joke[\"id\"]):\n",
        "              return f\"Joke with id {id} already exists add new id\", 400\n",
        "      joke = {\n",
        "          \"id\": int(id),\n",
        "          \"author\": params[\"author\"],\n",
        "          \"joke\": params[\"joke\"],\n",
        "          \"source\": params[\"source\"]\n",
        "      }\n",
        "      dev_jokes.append(joke)\n",
        "      return joke, 201\n",
        "\n",
        "    def delete(self, id):\n",
        "        global dev_jokes\n",
        "        dev_jokes = [joke for joke in dev_jokes if joke[\"id\"] != id]\n",
        "        return f\"Joke with id {id} is deleted.\", 200\n",
        "\n",
        "    def put(self, id):\n",
        "      parser = reqparse.RequestParser()\n",
        "      parser.add_argument(\"author\")\n",
        "      parser.add_argument(\"joke\")\n",
        "      parser.add_argument(\"source\")      \n",
        "      params = parser.parse_args()\n",
        "\n",
        "      for obj in dev_jokes:\n",
        "          if(id == obj[\"id\"]):\n",
        "              obj[\"author\"] = params[\"author\"]\n",
        "              obj[\"joke\"] = params[\"joke\"]\n",
        "              obj[\"source\"] = params[\"source\"]\n",
        "              return obj, 200\n",
        "      \n",
        "      obj = {\n",
        "          \"id\": id,\n",
        "          \"author\": params[\"author\"],\n",
        "          \"joke\": params[\"joke\"],\n",
        "          \"source\":params['source']\n",
        "      }\n",
        "      \n",
        "      dev_jokes.append(obj)\n",
        "      return obj, 201\n",
        "      \n",
        "\n",
        "class home(Resource):\n",
        "  def get(self):\n",
        "    return \"Hey there! This is a simple demo for making an API server made by Ali Mustufa Shaikh;\"\n",
        "\n",
        "api.add_resource(joke, \"/joke\", \"/joke/\", \"/joke/<int:id>\")\n",
        "api.add_resource(home,\"/\")\n",
        "\n",
        "if __name__ == '__main__':\n",
        "    run_with_ngrok(app)\n",
        "    app.run()"
      ],
      "execution_count": 3,
      "outputs": [
        {
          "output_type": "stream",
          "text": [
            " * Serving Flask app \"__main__\" (lazy loading)\n",
            " * Environment: production\n",
            "\u001b[31m   WARNING: This is a development server. Do not use it in a production deployment.\u001b[0m\n",
            "\u001b[2m   Use a production WSGI server instead.\u001b[0m\n",
            " * Debug mode: off\n"
          ],
          "name": "stdout"
        },
        {
          "output_type": "stream",
          "text": [
            " * Running on http://127.0.0.1:5000/ (Press CTRL+C to quit)\n"
          ],
          "name": "stderr"
        },
        {
          "output_type": "stream",
          "text": [
            " * Running on http://ebe991be22a2.ngrok.io\n",
            " * Traffic stats available on http://127.0.0.1:4040\n"
          ],
          "name": "stdout"
        },
        {
          "output_type": "stream",
          "text": [
            "127.0.0.1 - - [11/Jan/2021 08:53:40] \"\u001b[37mGET / HTTP/1.1\u001b[0m\" 200 -\n",
            "127.0.0.1 - - [11/Jan/2021 08:53:50] \"\u001b[37mGET /joke HTTP/1.1\u001b[0m\" 200 -\n",
            "127.0.0.1 - - [11/Jan/2021 08:53:58] \"\u001b[37mGET /joke/1 HTTP/1.1\u001b[0m\" 200 -\n",
            "127.0.0.1 - - [11/Jan/2021 08:54:01] \"\u001b[37mGET /joke/1 HTTP/1.1\u001b[0m\" 200 -\n",
            "127.0.0.1 - - [11/Jan/2021 08:54:08] \"\u001b[37mGET / HTTP/1.1\u001b[0m\" 200 -\n",
            "127.0.0.1 - - [11/Jan/2021 08:54:38] \"\u001b[31m\u001b[1mPOST /joke/0 HTTP/1.1\u001b[0m\" 400 -\n",
            "127.0.0.1 - - [11/Jan/2021 08:54:56] \"\u001b[31m\u001b[1mPOST /joke/0 HTTP/1.1\u001b[0m\" 400 -\n",
            "127.0.0.1 - - [11/Jan/2021 08:55:04] \"\u001b[37mPOST /joke/10 HTTP/1.1\u001b[0m\" 201 -\n",
            "127.0.0.1 - - [11/Jan/2021 08:55:07] \"\u001b[31m\u001b[1mPOST /joke/10 HTTP/1.1\u001b[0m\" 400 -\n",
            "127.0.0.1 - - [11/Jan/2021 08:55:24] \"\u001b[37mDELETE /joke/10 HTTP/1.1\u001b[0m\" 200 -\n",
            "127.0.0.1 - - [11/Jan/2021 08:55:41] \"\u001b[37mPUT /joke/1 HTTP/1.1\u001b[0m\" 200 -\n",
            "127.0.0.1 - - [11/Jan/2021 08:56:29] \"\u001b[37mPUT /joke/1 HTTP/1.1\u001b[0m\" 200 -\n",
            "127.0.0.1 - - [11/Jan/2021 08:56:40] \"\u001b[37mGET /joke/1 HTTP/1.1\u001b[0m\" 200 -\n",
            "127.0.0.1 - - [11/Jan/2021 08:56:47] \"\u001b[37mGET / HTTP/1.1\u001b[0m\" 200 -\n"
          ],
          "name": "stderr"
        }
      ]
    },
    {
      "cell_type": "markdown",
      "metadata": {
        "id": "Amk2qrdFB5Ua"
      },
      "source": [
        "## Advance Part\n",
        "\n",
        "\n",
        "\n",
        "1.   Implementation Auth (Username and Password)\n",
        "2.   Implementation of Proper Error Handling\n",
        "\n"
      ]
    },
    {
      "cell_type": "code",
      "metadata": {
        "id": "uSE7dFpGrYZy",
        "colab": {
          "base_uri": "https://localhost:8080/"
        },
        "outputId": "cc4df319-fd80-4eaf-ddf7-b76d37890d42"
      },
      "source": [
        "!pip install flask-httpauth"
      ],
      "execution_count": 7,
      "outputs": [
        {
          "output_type": "stream",
          "text": [
            "Collecting flask-httpauth\n",
            "  Downloading https://files.pythonhosted.org/packages/b7/10/387aba19908b3fedc45741aa7e8122d3328987efacde7acc4dcfb05075f2/Flask_HTTPAuth-4.2.0-py2.py3-none-any.whl\n",
            "Requirement already satisfied: Flask in /usr/local/lib/python3.6/dist-packages (from flask-httpauth) (1.1.2)\n",
            "Requirement already satisfied: itsdangerous>=0.24 in /usr/local/lib/python3.6/dist-packages (from Flask->flask-httpauth) (1.1.0)\n",
            "Requirement already satisfied: Jinja2>=2.10.1 in /usr/local/lib/python3.6/dist-packages (from Flask->flask-httpauth) (2.11.2)\n",
            "Requirement already satisfied: click>=5.1 in /usr/local/lib/python3.6/dist-packages (from Flask->flask-httpauth) (7.1.2)\n",
            "Requirement already satisfied: Werkzeug>=0.15 in /usr/local/lib/python3.6/dist-packages (from Flask->flask-httpauth) (1.0.1)\n",
            "Requirement already satisfied: MarkupSafe>=0.23 in /usr/local/lib/python3.6/dist-packages (from Jinja2>=2.10.1->Flask->flask-httpauth) (1.1.1)\n",
            "Installing collected packages: flask-httpauth\n",
            "Successfully installed flask-httpauth-4.2.0\n"
          ],
          "name": "stdout"
        }
      ]
    },
    {
      "cell_type": "code",
      "metadata": {
        "colab": {
          "base_uri": "https://localhost:8080/"
        },
        "id": "EnTLsiypB4gZ",
        "outputId": "50bfc592-bfb3-46aa-910a-9db3dfa39081"
      },
      "source": [
        "from flask import Flask, jsonify\n",
        "from flask_restful import Api, Resource, reqparse\n",
        "from flask_ngrok import run_with_ngrok\n",
        "from flask import make_response\n",
        "import random\n",
        "\n",
        "## Add Authentication \n",
        "from flask_httpauth import HTTPBasicAuth\n",
        "\n",
        "## Auth Code Start\n",
        "auth = HTTPBasicAuth()\n",
        "\n",
        "# Add Users\n",
        "users = {\n",
        "    \"ali\": \"iali.dev\",\n",
        "    \"public\": \"public\"\n",
        "}\n",
        "\n",
        "# Get Password mechanism \n",
        "@auth.get_password\n",
        "def get_pass(username):\n",
        "    if username in users:\n",
        "        return users.get(username)\n",
        "    return None\n",
        "\n",
        "## Auth Code End\n",
        "\n",
        "app = Flask(__name__)\n",
        "api = Api(app)\n",
        "\n",
        "dev_jokes = [\n",
        "    {\n",
        "        \"id\": 0,\n",
        "        \"author\": \"NA\",\n",
        "        \"joke\": \"Q: How did the Coder CEO build his company headquarters? A: By calling the Constructor();\", \n",
        "        \"source\": \"https://github.com/shrutikapoor08/devjoke/blob/master/README.md\"\n",
        "    },\n",
        "    {\n",
        "        \"id\": 1,\n",
        "        \"author\": \"NA\",\n",
        "        \"joke\": \"Q: What is Hardware? A: The part of the computer which you can kick.\",\n",
        "        \"source\": \"https://github.com/shrutikapoor08/devjoke/blob/master/README.md\"\n",
        "    },\n",
        "    {\n",
        "        \"id\": 2,\n",
        "        \"author\": \"NA\",\n",
        "        \"joke\": \"Q: Who is a programmer? A: A programmer is a machine who turns coffee into code.\",\n",
        "        \"source\": \"https://github.com/shrutikapoor08/devjoke/blob/master/README.md\"\n",
        "    },\n",
        "    {\n",
        "        \"id\": 3,\n",
        "        \"author\": \"NA\",\n",
        "        \"joke\": \"First rule of programming : If it works DON'T touch it.\",\n",
        "        \"source\": \"https://github.com/shrutikapoor08/devjoke/blob/master/README.md\"\n",
        "    }\n",
        "]\n",
        "\n",
        "class joke(Resource):\n",
        "    @auth.login_required\n",
        "    def get(self, id=0):\n",
        "        for joke in dev_jokes:\n",
        "            if(joke[\"id\"] == id):\n",
        "                return joke, 200\n",
        "        return \"Joke not found\", 404\n",
        "      \n",
        "    def post(self, id):\n",
        "      parser = reqparse.RequestParser()\n",
        "      parser.add_argument(\"author\")\n",
        "      parser.add_argument(\"joke\")\n",
        "      parser.add_argument(\"source\")\n",
        "      params = parser.parse_args()\n",
        "      for joke in dev_jokes:\n",
        "          if(id == joke[\"id\"]):\n",
        "              return f\"Joke with id {id} already exists add new id\", 400\n",
        "      joke = {\n",
        "          \"id\": int(id),\n",
        "          \"author\": params[\"author\"],\n",
        "          \"joke\": params[\"joke\"],\n",
        "          \"source\": params[\"source\"]\n",
        "      }\n",
        "      dev_jokes.append(joke)\n",
        "      return joke, 201\n",
        "\n",
        "    def delete(self, id):\n",
        "        global dev_jokes\n",
        "        dev_jokes = [joke for joke in dev_jokes if joke[\"id\"] != id]\n",
        "        return f\"Joke with id {id} is deleted.\", 200\n",
        "\n",
        "class home(Resource):\n",
        "  def get(self):\n",
        "    return \"Hey there! This is a simple demo for making an API server made by Ali Mustufa Shaikh;\"\n",
        "\n",
        "api.add_resource(joke, \"/joke\", \"/joke/\", \"/joke?id=<int:id>\")\n",
        "api.add_resource(home,\"/\")\n",
        "\n",
        "# For Error Handling Best Practises\n",
        "\n",
        "# @app.errorhandler(404)\n",
        "# def not_found(error):\n",
        "#     return make_response(jsonify({'error': 'Not found'}), 404)\n",
        "\n",
        "# @auth.error_handler\n",
        "# def unauthorized():\n",
        "#     return make_response(jsonify({'error': 'Unauthorized Access'}), 401)\n",
        "\n",
        "\n",
        "if __name__ == '__main__':\n",
        "    run_with_ngrok(app)\n",
        "    app.run()"
      ],
      "execution_count": null,
      "outputs": [
        {
          "output_type": "stream",
          "text": [
            " * Serving Flask app \"__main__\" (lazy loading)\n",
            " * Environment: production\n",
            "\u001b[31m   WARNING: This is a development server. Do not use it in a production deployment.\u001b[0m\n",
            "\u001b[2m   Use a production WSGI server instead.\u001b[0m\n",
            " * Debug mode: off\n"
          ],
          "name": "stdout"
        },
        {
          "output_type": "stream",
          "text": [
            " * Running on http://127.0.0.1:5000/ (Press CTRL+C to quit)\n"
          ],
          "name": "stderr"
        },
        {
          "output_type": "stream",
          "text": [
            " * Running on http://82cf1b1834cc.ngrok.io\n",
            " * Traffic stats available on http://127.0.0.1:4040\n"
          ],
          "name": "stdout"
        },
        {
          "output_type": "stream",
          "text": [
            "127.0.0.1 - - [10/Jan/2021 11:41:26] \"\u001b[31m\u001b[1mGET /joke HTTP/1.1\u001b[0m\" 401 -\n",
            "127.0.0.1 - - [10/Jan/2021 11:41:52] \"\u001b[37mGET /joke HTTP/1.1\u001b[0m\" 200 -\n"
          ],
          "name": "stderr"
        }
      ]
    },
    {
      "cell_type": "code",
      "metadata": {
        "id": "dwSWx-3TGZ6c"
      },
      "source": [],
      "execution_count": null,
      "outputs": []
    }
  ]
}